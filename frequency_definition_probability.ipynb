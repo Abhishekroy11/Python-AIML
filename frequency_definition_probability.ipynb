{
  "nbformat": 4,
  "nbformat_minor": 0,
  "metadata": {
    "colab": {
      "provenance": [],
      "authorship_tag": "ABX9TyMxG+1mDuqTo8qK1ykDF+sD",
      "include_colab_link": true
    },
    "kernelspec": {
      "name": "python3",
      "display_name": "Python 3"
    },
    "language_info": {
      "name": "python"
    }
  },
  "cells": [
    {
      "cell_type": "markdown",
      "metadata": {
        "id": "view-in-github",
        "colab_type": "text"
      },
      "source": [
        "<a href=\"https://colab.research.google.com/github/Abhishekroy11/Python-AIML/blob/main/frequency_definition_probability.ipynb\" target=\"_parent\"><img src=\"https://colab.research.google.com/assets/colab-badge.svg\" alt=\"Open In Colab\"/></a>"
      ]
    },
    {
      "cell_type": "code",
      "execution_count": 1,
      "metadata": {
        "colab": {
          "base_uri": "https://localhost:8080/"
        },
        "id": "YWMsUc8eXfhj",
        "outputId": "ec460b84-4542-4049-e9ca-104b150033aa"
      },
      "outputs": [
        {
          "output_type": "stream",
          "name": "stdout",
          "text": [
            "Enter which time you want to flip coin:3\n",
            "Tale\n",
            "Tale\n",
            "Head\n",
            "0.3333333333333333\n"
          ]
        }
      ],
      "source": [
        "import random\n",
        "\n",
        "n = int(input(\"Enter which time you want to flip coin:\"))\n",
        "h = 0\n",
        "for i in range(n):\n",
        "    coin = random.choice([\"Head\", \"Tale\"])\n",
        "    print(coin)\n",
        "\n",
        "    if coin == \"Head\":\n",
        "        h += 1\n",
        "result = h/n\n",
        "print(result)"
      ]
    },
    {
      "cell_type": "code",
      "source": [
        "import random\n",
        "import pandas as pd\n",
        "realtive_frequecy = []\n",
        "total_head = 0\n",
        "for i in range (100000):\n",
        "    toss = random.randint(0,1)\n",
        "    total_head  +=toss\n",
        "    realtive_frequecy.append(total_head/(i+1))\n",
        "realative_frequecy_pd =  pd.Series(realtive_frequecy)\n",
        "realative_frequecy_pd.plot()"
      ],
      "metadata": {
        "colab": {
          "base_uri": "https://localhost:8080/",
          "height": 448
        },
        "id": "FEzNiPkqX9V1",
        "outputId": "c588f605-02dd-4a52-eda6-998c9381f15e"
      },
      "execution_count": 2,
      "outputs": [
        {
          "output_type": "execute_result",
          "data": {
            "text/plain": [
              "<Axes: >"
            ]
          },
          "metadata": {},
          "execution_count": 2
        },
        {
          "output_type": "display_data",
          "data": {
            "text/plain": [
              "<Figure size 640x480 with 1 Axes>"
            ],
            "image/png": "[encoded data removed]"
          },
          "metadata": {}
        }
      ]
    }
  ]
}